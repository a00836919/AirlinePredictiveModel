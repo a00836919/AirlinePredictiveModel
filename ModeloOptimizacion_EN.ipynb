{
 "cells": [
  {
   "cell_type": "code",
   "execution_count": 92,
   "metadata": {
    "id": "ZjWF2Q2RwRWc"
   },
   "outputs": [],
   "source": [
    "import pandas as pd"
   ]
  },
  {
   "cell_type": "code",
   "execution_count": 93,
   "metadata": {
    "id": "SVhHWKNDw_sm"
   },
   "outputs": [],
   "source": [
    "df = pd.read_csv(\"Filghts TEC_Valid.csv\")"
   ]
  },
  {
   "cell_type": "code",
   "execution_count": 94,
   "metadata": {
    "id": "JIIuHckyxOcU"
   },
   "outputs": [],
   "source": [
    "df['STD'] = pd.to_datetime(df['STD'])\n",
    "df['STA'] = pd.to_datetime(df['STA'])"
   ]
  },
  {
   "cell_type": "markdown",
   "metadata": {},
   "source": [
    "We remove the 2024 data."
   ]
  },
  {
   "cell_type": "code",
   "execution_count": 95,
   "metadata": {
    "id": "GGdGA3QtxD3g"
   },
   "outputs": [],
   "source": [
    "df = df[df['STD'].dt.year < 2024]"
   ]
  },
  {
   "cell_type": "markdown",
   "metadata": {},
   "source": [
    "We delete missing data."
   ]
  },
  {
   "cell_type": "code",
   "execution_count": 113,
   "metadata": {
    "id": "Pe2NdwGkxReF"
   },
   "outputs": [],
   "source": [
    "df = df.dropna()"
   ]
  },
  {
   "cell_type": "markdown",
   "metadata": {},
   "source": [
    "We remove outliers to keep only \"real\" flights."
   ]
  },
  {
   "cell_type": "code",
   "execution_count": 97,
   "metadata": {
    "id": "tiXb6jIjxW5O"
   },
   "outputs": [],
   "source": [
    "\n",
    "Q1 = df[\"Passengers\"].quantile(0.25)\n",
    "Q3 = df[\"Passengers\"].quantile(0.75)\n",
    "IQR = Q3 - Q1\n",
    "\n",
    "# Define the boundaries for outliers\n",
    "lower_bound = Q1 - 1.5 * IQR\n",
    "upper_bound = Q3 + 1.5 * IQR\n",
    "\n",
    "# Remove rows where the column value is outside the boundaries\n",
    "df_filtered1 = df[(df[\"Passengers\"] >= lower_bound) & (df[\"Passengers\"] <= upper_bound)]"
   ]
  },
  {
   "cell_type": "markdown",
   "metadata": {},
   "source": [
    "We group by departure time and date, as well as by aircraft."
   ]
  },
  {
   "cell_type": "code",
   "execution_count": 98,
   "metadata": {
    "colab": {
     "base_uri": "https://localhost:8080/",
     "height": 944
    },
    "id": "UdyEn8Dr9pci",
    "outputId": "2a3283d6-5f93-4677-d303-e154eefd0e89"
   },
   "outputs": [
    {
     "name": "stderr",
     "output_type": "stream",
     "text": [
      "/var/folders/1h/w3mjcszn60577hhjww35tglh0000gn/T/ipykernel_22512/1624798082.py:2: SettingWithCopyWarning: \n",
      "A value is trying to be set on a copy of a slice from a DataFrame.\n",
      "Try using .loc[row_indexer,col_indexer] = value instead\n",
      "\n",
      "See the caveats in the documentation: https://pandas.pydata.org/pandas-docs/stable/user_guide/indexing.html#returning-a-view-versus-a-copy\n",
      "  df_filtered1['STD'] = pd.to_datetime(df_filtered1['STD'])\n",
      "/var/folders/1h/w3mjcszn60577hhjww35tglh0000gn/T/ipykernel_22512/1624798082.py:3: SettingWithCopyWarning: \n",
      "A value is trying to be set on a copy of a slice from a DataFrame.\n",
      "Try using .loc[row_indexer,col_indexer] = value instead\n",
      "\n",
      "See the caveats in the documentation: https://pandas.pydata.org/pandas-docs/stable/user_guide/indexing.html#returning-a-view-versus-a-copy\n",
      "  df_filtered1['STA'] = pd.to_datetime(df_filtered1['STA'])\n"
     ]
    },
    {
     "data": {
      "text/html": [
       "<div>\n",
       "<style scoped>\n",
       "    .dataframe tbody tr th:only-of-type {\n",
       "        vertical-align: middle;\n",
       "    }\n",
       "\n",
       "    .dataframe tbody tr th {\n",
       "        vertical-align: top;\n",
       "    }\n",
       "\n",
       "    .dataframe thead th {\n",
       "        text-align: right;\n",
       "    }\n",
       "</style>\n",
       "<table border=\"1\" class=\"dataframe\">\n",
       "  <thead>\n",
       "    <tr style=\"text-align: right;\">\n",
       "      <th></th>\n",
       "      <th>Flight_ID</th>\n",
       "      <th>Aeronave</th>\n",
       "      <th>DepartureStation</th>\n",
       "      <th>ArrivalStation</th>\n",
       "      <th>Destination_Type</th>\n",
       "      <th>Origin_Type</th>\n",
       "      <th>STD</th>\n",
       "      <th>STA</th>\n",
       "      <th>Capacity</th>\n",
       "      <th>Passengers</th>\n",
       "      <th>Bookings</th>\n",
       "    </tr>\n",
       "  </thead>\n",
       "  <tbody>\n",
       "    <tr>\n",
       "      <th>221144</th>\n",
       "      <td>dd0a5be979063bbb5305bd3d50a3e785</td>\n",
       "      <td>9H-SWB</td>\n",
       "      <td>AW</td>\n",
       "      <td>BM</td>\n",
       "      <td>Ciudad Fronteriza</td>\n",
       "      <td>Ciudad Principal</td>\n",
       "      <td>2023-11-16 06:30:00</td>\n",
       "      <td>2023-11-16 07:35:00</td>\n",
       "      <td>180</td>\n",
       "      <td>192.0</td>\n",
       "      <td>120.0</td>\n",
       "    </tr>\n",
       "    <tr>\n",
       "      <th>160452</th>\n",
       "      <td>c2d8b0985485299dbbadc0dc23747f8b</td>\n",
       "      <td>9H-SWB</td>\n",
       "      <td>BM</td>\n",
       "      <td>AW</td>\n",
       "      <td>Ciudad Principal</td>\n",
       "      <td>Ciudad Fronteriza</td>\n",
       "      <td>2023-11-16 08:25:00</td>\n",
       "      <td>2023-11-16 13:10:00</td>\n",
       "      <td>180</td>\n",
       "      <td>168.0</td>\n",
       "      <td>95.0</td>\n",
       "    </tr>\n",
       "    <tr>\n",
       "      <th>189928</th>\n",
       "      <td>ba4bc41678ad4c0e392a027f2b843925</td>\n",
       "      <td>9H-SWB</td>\n",
       "      <td>AW</td>\n",
       "      <td>BD</td>\n",
       "      <td>Playa</td>\n",
       "      <td>Ciudad Principal</td>\n",
       "      <td>2023-11-16 20:20:00</td>\n",
       "      <td>2023-11-16 22:00:00</td>\n",
       "      <td>178</td>\n",
       "      <td>172.0</td>\n",
       "      <td>120.0</td>\n",
       "    </tr>\n",
       "    <tr>\n",
       "      <th>218790</th>\n",
       "      <td>788f7b866bcb230eb34f09d942afe73f</td>\n",
       "      <td>9H-SWB</td>\n",
       "      <td>AW</td>\n",
       "      <td>BM</td>\n",
       "      <td>Ciudad Fronteriza</td>\n",
       "      <td>Ciudad Principal</td>\n",
       "      <td>2023-11-17 06:30:00</td>\n",
       "      <td>2023-11-17 07:35:00</td>\n",
       "      <td>178</td>\n",
       "      <td>181.0</td>\n",
       "      <td>105.0</td>\n",
       "    </tr>\n",
       "    <tr>\n",
       "      <th>144055</th>\n",
       "      <td>83ac777580b704b361b4365c7a603dd5</td>\n",
       "      <td>9H-SWB</td>\n",
       "      <td>BM</td>\n",
       "      <td>AW</td>\n",
       "      <td>Ciudad Principal</td>\n",
       "      <td>Ciudad Fronteriza</td>\n",
       "      <td>2023-11-17 08:25:00</td>\n",
       "      <td>2023-11-17 13:10:00</td>\n",
       "      <td>178</td>\n",
       "      <td>179.0</td>\n",
       "      <td>127.0</td>\n",
       "    </tr>\n",
       "    <tr>\n",
       "      <th>226117</th>\n",
       "      <td>3024a466458bdae49a6e83f2a9f8eba3</td>\n",
       "      <td>9H-SWB</td>\n",
       "      <td>AW</td>\n",
       "      <td>BM</td>\n",
       "      <td>Ciudad Fronteriza</td>\n",
       "      <td>Ciudad Principal</td>\n",
       "      <td>2023-11-19 06:30:00</td>\n",
       "      <td>2023-11-19 07:35:00</td>\n",
       "      <td>178</td>\n",
       "      <td>179.0</td>\n",
       "      <td>105.0</td>\n",
       "    </tr>\n",
       "    <tr>\n",
       "      <th>149213</th>\n",
       "      <td>ac8b8bb7784534e2fe47f76a8de60e9c</td>\n",
       "      <td>9H-SWB</td>\n",
       "      <td>BM</td>\n",
       "      <td>AW</td>\n",
       "      <td>Ciudad Principal</td>\n",
       "      <td>Ciudad Fronteriza</td>\n",
       "      <td>2023-11-19 08:25:00</td>\n",
       "      <td>2023-11-19 13:10:00</td>\n",
       "      <td>178</td>\n",
       "      <td>176.0</td>\n",
       "      <td>96.0</td>\n",
       "    </tr>\n",
       "    <tr>\n",
       "      <th>189642</th>\n",
       "      <td>7de9829433de30fc20077515d50833b8</td>\n",
       "      <td>9H-SWB</td>\n",
       "      <td>AW</td>\n",
       "      <td>BD</td>\n",
       "      <td>Playa</td>\n",
       "      <td>Ciudad Principal</td>\n",
       "      <td>2023-11-19 20:20:00</td>\n",
       "      <td>2023-11-19 22:00:00</td>\n",
       "      <td>178</td>\n",
       "      <td>158.0</td>\n",
       "      <td>96.0</td>\n",
       "    </tr>\n",
       "    <tr>\n",
       "      <th>139955</th>\n",
       "      <td>8faac925e036a48e5809ddbd661cda02</td>\n",
       "      <td>9H-SWB</td>\n",
       "      <td>BD</td>\n",
       "      <td>AW</td>\n",
       "      <td>Ciudad Principal</td>\n",
       "      <td>Playa</td>\n",
       "      <td>2023-11-19 22:50:00</td>\n",
       "      <td>2023-11-20 00:25:00</td>\n",
       "      <td>178</td>\n",
       "      <td>188.0</td>\n",
       "      <td>119.0</td>\n",
       "    </tr>\n",
       "    <tr>\n",
       "      <th>229473</th>\n",
       "      <td>e1165c2cfce269543f8e1b6c285d2afd</td>\n",
       "      <td>9H-SWB</td>\n",
       "      <td>AW</td>\n",
       "      <td>BM</td>\n",
       "      <td>Ciudad Fronteriza</td>\n",
       "      <td>Ciudad Principal</td>\n",
       "      <td>2023-11-20 06:30:00</td>\n",
       "      <td>2023-11-20 07:35:00</td>\n",
       "      <td>178</td>\n",
       "      <td>180.0</td>\n",
       "      <td>101.0</td>\n",
       "    </tr>\n",
       "  </tbody>\n",
       "</table>\n",
       "</div>"
      ],
      "text/plain": [
       "                               Flight_ID Aeronave DepartureStation  \\\n",
       "221144  dd0a5be979063bbb5305bd3d50a3e785   9H-SWB               AW   \n",
       "160452  c2d8b0985485299dbbadc0dc23747f8b   9H-SWB               BM   \n",
       "189928  ba4bc41678ad4c0e392a027f2b843925   9H-SWB               AW   \n",
       "218790  788f7b866bcb230eb34f09d942afe73f   9H-SWB               AW   \n",
       "144055  83ac777580b704b361b4365c7a603dd5   9H-SWB               BM   \n",
       "226117  3024a466458bdae49a6e83f2a9f8eba3   9H-SWB               AW   \n",
       "149213  ac8b8bb7784534e2fe47f76a8de60e9c   9H-SWB               BM   \n",
       "189642  7de9829433de30fc20077515d50833b8   9H-SWB               AW   \n",
       "139955  8faac925e036a48e5809ddbd661cda02   9H-SWB               BD   \n",
       "229473  e1165c2cfce269543f8e1b6c285d2afd   9H-SWB               AW   \n",
       "\n",
       "       ArrivalStation   Destination_Type        Origin_Type  \\\n",
       "221144             BM  Ciudad Fronteriza   Ciudad Principal   \n",
       "160452             AW   Ciudad Principal  Ciudad Fronteriza   \n",
       "189928             BD              Playa   Ciudad Principal   \n",
       "218790             BM  Ciudad Fronteriza   Ciudad Principal   \n",
       "144055             AW   Ciudad Principal  Ciudad Fronteriza   \n",
       "226117             BM  Ciudad Fronteriza   Ciudad Principal   \n",
       "149213             AW   Ciudad Principal  Ciudad Fronteriza   \n",
       "189642             BD              Playa   Ciudad Principal   \n",
       "139955             AW   Ciudad Principal              Playa   \n",
       "229473             BM  Ciudad Fronteriza   Ciudad Principal   \n",
       "\n",
       "                       STD                 STA  Capacity  Passengers  Bookings  \n",
       "221144 2023-11-16 06:30:00 2023-11-16 07:35:00       180       192.0     120.0  \n",
       "160452 2023-11-16 08:25:00 2023-11-16 13:10:00       180       168.0      95.0  \n",
       "189928 2023-11-16 20:20:00 2023-11-16 22:00:00       178       172.0     120.0  \n",
       "218790 2023-11-17 06:30:00 2023-11-17 07:35:00       178       181.0     105.0  \n",
       "144055 2023-11-17 08:25:00 2023-11-17 13:10:00       178       179.0     127.0  \n",
       "226117 2023-11-19 06:30:00 2023-11-19 07:35:00       178       179.0     105.0  \n",
       "149213 2023-11-19 08:25:00 2023-11-19 13:10:00       178       176.0      96.0  \n",
       "189642 2023-11-19 20:20:00 2023-11-19 22:00:00       178       158.0      96.0  \n",
       "139955 2023-11-19 22:50:00 2023-11-20 00:25:00       178       188.0     119.0  \n",
       "229473 2023-11-20 06:30:00 2023-11-20 07:35:00       178       180.0     101.0  "
      ]
     },
     "execution_count": 98,
     "metadata": {},
     "output_type": "execute_result"
    }
   ],
   "source": [
    "\n",
    "# Convert time columns to datetime\n",
    "df_filtered1['STD'] = pd.to_datetime(df_filtered1['STD'])\n",
    "df_filtered1['STA'] = pd.to_datetime(df_filtered1['STA'])\n",
    "\n",
    "# Sort DataFrame by 'id' and 'departure_time'\n",
    "df_filtered1 = df_filtered1.sort_values(by=['Aeronave', 'STD'])\n",
    "df_filtered1.head(10)"
   ]
  },
  {
   "cell_type": "code",
   "execution_count": 99,
   "metadata": {
    "colab": {
     "base_uri": "https://localhost:8080/"
    },
    "id": "hW9qUcLd-VBI",
    "outputId": "ca0c516b-87ad-4214-9d34-82b1e1a410a1"
   },
   "outputs": [
    {
     "name": "stdout",
     "output_type": "stream",
     "text": [
      "       Aeronave DepartureStation ArrivalStation                 STD  \\\n",
      "160452   9H-SWB               BM             AW 2023-11-16 08:25:00   \n",
      "189928   9H-SWB               AW             BD 2023-11-16 20:20:00   \n",
      "218790   9H-SWB               AW             BM 2023-11-17 06:30:00   \n",
      "144055   9H-SWB               BM             AW 2023-11-17 08:25:00   \n",
      "226117   9H-SWB               AW             BM 2023-11-19 06:30:00   \n",
      "...         ...              ...            ...                 ...   \n",
      "42723    XA-VYF               AT             AK 2023-12-31 06:15:00   \n",
      "90203    XA-VYF               AK             AT 2023-12-31 10:25:00   \n",
      "245128   XA-VYF               AT             BT 2023-12-31 12:50:00   \n",
      "91086    XA-VYF               BT             AT 2023-12-31 16:55:00   \n",
      "200462   XA-VYF               AT             BG 2023-12-31 19:15:00   \n",
      "\n",
      "                       STA                nSTA  duration  \n",
      "160452 2023-11-16 13:10:00 2023-11-16 07:35:00      50.0  \n",
      "189928 2023-11-16 22:00:00 2023-11-16 13:10:00     430.0  \n",
      "218790 2023-11-17 07:35:00 2023-11-16 22:00:00     510.0  \n",
      "144055 2023-11-17 13:10:00 2023-11-17 07:35:00      50.0  \n",
      "226117 2023-11-19 07:35:00 2023-11-17 13:10:00    2480.0  \n",
      "...                    ...                 ...       ...  \n",
      "42723  2023-12-31 09:35:00 2023-12-30 22:05:00     490.0  \n",
      "90203  2023-12-31 11:55:00 2023-12-31 09:35:00      50.0  \n",
      "245128 2023-12-31 16:10:00 2023-12-31 11:55:00      55.0  \n",
      "91086  2023-12-31 18:25:00 2023-12-31 16:10:00      45.0  \n",
      "200462 2023-12-31 20:50:00 2023-12-31 18:25:00      50.0  \n",
      "\n",
      "[119977 rows x 7 columns]\n"
     ]
    }
   ],
   "source": [
    "# Shift the arrival_time backwards within each 'id' group\n",
    "df_filtered1['nSTA'] = df_filtered1.groupby('Aeronave')['STA'].shift(1)\n",
    "\n",
    "# Calculate duration in minutes between the current departure and the next arrival\n",
    "df_filtered1['duration'] = -1*((df_filtered1['nSTA'] - df_filtered1['STD']).dt.total_seconds() / 60)\n",
    "\n",
    "# Drop the last row of each group since it doesn't have a next arrival time\n",
    "df_filtered1.dropna(subset=['duration'], inplace=True)\n",
    "\n",
    "print(df_filtered1[['Aeronave', 'DepartureStation', 'ArrivalStation', 'STD', 'STA',\"nSTA\", 'duration']])"
   ]
  },
  {
   "cell_type": "code",
   "execution_count": 100,
   "metadata": {
    "id": "gV_a3DnSAQwz"
   },
   "outputs": [],
   "source": [
    "df_filtered1['flight'] = df['DepartureStation'] + '_' + df['ArrivalStation']"
   ]
  },
  {
   "cell_type": "code",
   "execution_count": 101,
   "metadata": {
    "id": "cptpKW1mWX2U"
   },
   "outputs": [],
   "source": [
    "df_filtered1['nocargable'] = ~df_filtered1['DepartureStation'].isin(['AO', 'AU', 'AW', 'BA', 'BM', 'AT', 'AK', 'AD'])"
   ]
  },
  {
   "cell_type": "code",
   "execution_count": 102,
   "metadata": {
    "id": "bIfn499rPC9j"
   },
   "outputs": [],
   "source": [
    "df_filtered1.drop(columns=['DepartureStation', 'ArrivalStation', \"Destination_Type\", \"Origin_Type\",\"Capacity\",\t\"Passengers\",\t\"Bookings\"], inplace=True)"
   ]
  },
  {
   "cell_type": "code",
   "execution_count": 103,
   "metadata": {
    "id": "2o8AFJvbRXvv"
   },
   "outputs": [],
   "source": [
    "df2 = pd.read_csv(\"dataset_combinado.csv\")"
   ]
  },
  {
   "cell_type": "code",
   "execution_count": 104,
   "metadata": {
    "id": "8NEA4U5OQt6s"
   },
   "outputs": [],
   "source": [
    "combined_df = pd.merge(df_filtered1, df2, on='Flight_ID', how='inner')"
   ]
  },
  {
   "cell_type": "markdown",
   "metadata": {
    "id": "xmaBKF_sanu7"
   },
   "source": [
    "We choose to work with Coca-Cola as an example, since sandwiches are rarely requested."
   ]
  },
  {
   "cell_type": "code",
   "execution_count": 105,
   "metadata": {
    "id": "DAAxN26mSak3"
   },
   "outputs": [],
   "source": [
    "df = combined_df.loc[:, [\"Aeronave\",\t\"STD\",\t\"STA\",\t\"nSTA\",\t\"duration\", \"flight\",\"Coca Cola Regular\", 'nocargable']]"
   ]
  },
  {
   "cell_type": "markdown",
   "metadata": {
    "id": "7Yt3ZD36c2EG"
   },
   "source": [
    "We create a dictionary from the data to build a predictive model."
   ]
  },
  {
   "cell_type": "code",
   "execution_count": 106,
   "metadata": {},
   "outputs": [],
   "source": [
    "df1 = df[df[\"Aeronave\"]==\"XA-VYF\"]"
   ]
  },
  {
   "cell_type": "code",
   "execution_count": 107,
   "metadata": {},
   "outputs": [
    {
     "name": "stdout",
     "output_type": "stream",
     "text": [
      "<class 'pandas.core.frame.DataFrame'>\n",
      "Index: 473 entries, 108174 to 108646\n",
      "Data columns (total 8 columns):\n",
      " #   Column             Non-Null Count  Dtype         \n",
      "---  ------             --------------  -----         \n",
      " 0   Aeronave           473 non-null    object        \n",
      " 1   STD                473 non-null    datetime64[ns]\n",
      " 2   STA                473 non-null    datetime64[ns]\n",
      " 3   nSTA               473 non-null    datetime64[ns]\n",
      " 4   duration           473 non-null    float64       \n",
      " 5   flight             473 non-null    object        \n",
      " 6   Coca Cola Regular  473 non-null    float64       \n",
      " 7   nocargable         473 non-null    bool          \n",
      "dtypes: bool(1), datetime64[ns](3), float64(2), object(2)\n",
      "memory usage: 30.0+ KB\n"
     ]
    }
   ],
   "source": [
    "df1.info()"
   ]
  },
  {
   "cell_type": "code",
   "execution_count": 115,
   "metadata": {},
   "outputs": [],
   "source": [
    "df1['day'] = df1['STD'].dt.date\n",
    "df1['flight_number'] = df1.groupby('day').cumcount() + 1"
   ]
  },
  {
   "cell_type": "code",
   "execution_count": 121,
   "metadata": {},
   "outputs": [],
   "source": [
    "df1.drop(columns=[\"STD\",\"STA\",\"nSTA\"] , inplace=True)"
   ]
  },
  {
   "cell_type": "markdown",
   "metadata": {},
   "source": [
    "# Final Model"
   ]
  },
  {
   "cell_type": "markdown",
   "metadata": {},
   "source": [
    "This is a sample model for one aircraft type, one item type, the load capacity per trip, and the airports where loading is allowed. The model is flexible and can be adapted for other parameters."
   ]
  },
  {
   "cell_type": "markdown",
   "metadata": {},
   "source": [
    "The model groups by day and flight number. First, it checks whether loading is allowed at that location. If so, it verifies demand and the loading plan. If restocking is needed, inventory is updated. To determine if restocking is required that day, it checks the current inventory and the product’s expiration. If the expiration has passed, restocking is triggered; otherwise, the inventory is just updated."
   ]
  },
  {
   "cell_type": "code",
   "execution_count": 125,
   "metadata": {},
   "outputs": [
    {
     "data": {
      "text/plain": [
       "{(datetime.date(2023, 9, 7), 1): 'Supply',\n",
       " (datetime.date(2023, 9, 9), 1): 'Supply',\n",
       " (datetime.date(2023, 9, 11), 1): 'Supply',\n",
       " (datetime.date(2023, 9, 13), 1): 'Supply',\n",
       " (datetime.date(2023, 9, 15), 1): 'Supply',\n",
       " (datetime.date(2023, 9, 17), 1): 'Supply',\n",
       " (datetime.date(2023, 9, 19), 1): 'Supply',\n",
       " (datetime.date(2023, 9, 21), 1): 'Supply',\n",
       " (datetime.date(2023, 9, 23), 1): 'Supply',\n",
       " (datetime.date(2023, 9, 25), 1): 'Supply',\n",
       " (datetime.date(2023, 9, 27), 1): 'Supply',\n",
       " (datetime.date(2023, 9, 29), 1): 'Supply',\n",
       " (datetime.date(2023, 10, 1), 2): 'Supply',\n",
       " (datetime.date(2023, 10, 3), 1): 'Supply',\n",
       " (datetime.date(2023, 10, 5), 1): 'Supply',\n",
       " (datetime.date(2023, 10, 7), 1): 'Supply',\n",
       " (datetime.date(2023, 10, 9), 2): 'Supply',\n",
       " (datetime.date(2023, 10, 11), 1): 'Supply',\n",
       " (datetime.date(2023, 10, 13), 1): 'Supply',\n",
       " (datetime.date(2023, 10, 15), 1): 'Supply',\n",
       " (datetime.date(2023, 10, 18), 3): 'Supply',\n",
       " (datetime.date(2023, 10, 20), 1): 'Supply',\n",
       " (datetime.date(2023, 10, 22), 1): 'Supply',\n",
       " (datetime.date(2023, 10, 24), 1): 'Supply',\n",
       " (datetime.date(2023, 10, 26), 1): 'Supply',\n",
       " (datetime.date(2023, 10, 28), 1): 'Supply',\n",
       " (datetime.date(2023, 10, 30), 1): 'Supply',\n",
       " (datetime.date(2023, 11, 1), 3): 'Supply',\n",
       " (datetime.date(2023, 11, 3), 1): 'Supply',\n",
       " (datetime.date(2023, 11, 6), 1): 'Supply',\n",
       " (datetime.date(2023, 11, 8), 2): 'Supply',\n",
       " (datetime.date(2023, 11, 13), 1): 'Supply',\n",
       " (datetime.date(2023, 11, 15), 1): 'Supply',\n",
       " (datetime.date(2023, 11, 17), 1): 'Supply',\n",
       " (datetime.date(2023, 11, 19), 1): 'Supply',\n",
       " (datetime.date(2023, 11, 21), 4): 'Supply',\n",
       " (datetime.date(2023, 11, 23), 1): 'Supply',\n",
       " (datetime.date(2023, 11, 25), 1): 'Supply',\n",
       " (datetime.date(2023, 12, 1), 2): 'Supply',\n",
       " (datetime.date(2023, 12, 6), 3): 'Supply',\n",
       " (datetime.date(2023, 12, 11), 1): 'Supply',\n",
       " (datetime.date(2023, 12, 15), 1): 'Supply',\n",
       " (datetime.date(2023, 12, 22), 1): 'Supply',\n",
       " (datetime.date(2023, 12, 24), 1): 'Supply',\n",
       " (datetime.date(2023, 12, 26), 1): 'Supply',\n",
       " (datetime.date(2023, 12, 28), 2): 'Supply',\n",
       " (datetime.date(2023, 12, 30), 1): 'Supply'}"
      ]
     },
     "execution_count": 125,
     "metadata": {},
     "output_type": "execute_result"
    }
   ],
   "source": [
    "def optimize_coca_cola_supply(data):\n",
    "    #Se agrupan por dia y numero de vuelo\n",
    "    data = data.sort_values(by=['day', 'flight_number'])\n",
    "\n",
    "    supply_dates = {}\n",
    "    current_stock = 0\n",
    "    last_supply_day = None\n",
    "\n",
    "    for index, row in data.iterrows():\n",
    "        if row['nocargable']:\n",
    "            continue  # No se revisa si se debe cargar en los stops que no se peudan cargar\n",
    "\n",
    "        # Se debe determinar la demanda y el plan de carga\n",
    "        if current_stock < row['Coca Cola Regular']:\n",
    "            # Se debe checar si se debe cargar\n",
    "            if last_supply_day is None or (pd.to_datetime(row['day']) - last_supply_day).days >= 2:\n",
    "                # Se hace la carga y se refreseha el inventario\n",
    "                supply_dates[(row['day'], row['flight_number'])] = 'Supply'\n",
    "                current_stock = 24 - row['Coca Cola Regular']  # Se calcula el inventario\n",
    "                last_supply_day = pd.to_datetime(row['day'])\n",
    "            else:\n",
    "                # Consider the remaining lifespan of the stock\n",
    "                days_since_supply = (pd.to_datetime(row['day']) - last_supply_day).days\n",
    "                if days_since_supply < 2:\n",
    "                    # Use existing stock\n",
    "                    current_stock -= row['Coca Cola Regular']\n",
    "                else:\n",
    "                    # Stock expired, need new supply\n",
    "                    supply_dates[(row['day'], row['flight_number'])] = 'Supply'\n",
    "                    current_stock = 24 - row['Coca Cola Regular']  # Supply new and consume some\n",
    "                    last_supply_day = pd.to_datetime(row['day'])\n",
    "        else:\n",
    "            # Sufficient stock to meet demand\n",
    "            current_stock -= row['Coca Cola Regular']\n",
    "\n",
    "    return supply_dates\n",
    "\n",
    "# Apply the optimization function\n",
    "supply_decisions = optimize_coca_cola_supply(df1)\n",
    "supply_decisions\n"
   ]
  },
  {
   "cell_type": "code",
   "execution_count": 135,
   "metadata": {},
   "outputs": [
    {
     "name": "stdout",
     "output_type": "stream",
     "text": [
      "Día 2023-09-07: En el vuelo 1 se tiene que cargar artículo.\n",
      "Día 2023-09-09: En el vuelo 1 se tiene que cargar artículo.\n",
      "Día 2023-09-11: En el vuelo 1 se tiene que cargar artículo.\n",
      "Día 2023-09-13: En el vuelo 1 se tiene que cargar artículo.\n",
      "Día 2023-09-15: En el vuelo 1 se tiene que cargar artículo.\n",
      "Día 2023-09-17: En el vuelo 1 se tiene que cargar artículo.\n",
      "Día 2023-09-19: En el vuelo 1 se tiene que cargar artículo.\n",
      "Día 2023-09-21: En el vuelo 1 se tiene que cargar artículo.\n",
      "Día 2023-09-23: En el vuelo 1 se tiene que cargar artículo.\n",
      "Día 2023-09-25: En el vuelo 1 se tiene que cargar artículo.\n",
      "Día 2023-09-27: En el vuelo 1 se tiene que cargar artículo.\n",
      "Día 2023-09-29: En el vuelo 1 se tiene que cargar artículo.\n",
      "Día 2023-10-01: En el vuelo 2 se tiene que cargar artículo.\n",
      "Día 2023-10-03: En el vuelo 1 se tiene que cargar artículo.\n",
      "Día 2023-10-05: En el vuelo 1 se tiene que cargar artículo.\n",
      "Día 2023-10-07: En el vuelo 1 se tiene que cargar artículo.\n",
      "Día 2023-10-09: En el vuelo 2 se tiene que cargar artículo.\n",
      "Día 2023-10-11: En el vuelo 1 se tiene que cargar artículo.\n",
      "Día 2023-10-13: En el vuelo 1 se tiene que cargar artículo.\n",
      "Día 2023-10-15: En el vuelo 1 se tiene que cargar artículo.\n",
      "Día 2023-10-18: En el vuelo 3 se tiene que cargar artículo.\n",
      "Día 2023-10-20: En el vuelo 1 se tiene que cargar artículo.\n",
      "Día 2023-10-22: En el vuelo 1 se tiene que cargar artículo.\n",
      "Día 2023-10-24: En el vuelo 1 se tiene que cargar artículo.\n",
      "Día 2023-10-26: En el vuelo 1 se tiene que cargar artículo.\n",
      "Día 2023-10-28: En el vuelo 1 se tiene que cargar artículo.\n",
      "Día 2023-10-30: En el vuelo 1 se tiene que cargar artículo.\n",
      "Día 2023-11-01: En el vuelo 3 se tiene que cargar artículo.\n",
      "Día 2023-11-03: En el vuelo 1 se tiene que cargar artículo.\n",
      "Día 2023-11-06: En el vuelo 1 se tiene que cargar artículo.\n",
      "Día 2023-11-08: En el vuelo 2 se tiene que cargar artículo.\n",
      "Día 2023-11-13: En el vuelo 1 se tiene que cargar artículo.\n",
      "Día 2023-11-15: En el vuelo 1 se tiene que cargar artículo.\n",
      "Día 2023-11-17: En el vuelo 1 se tiene que cargar artículo.\n",
      "Día 2023-11-19: En el vuelo 1 se tiene que cargar artículo.\n",
      "Día 2023-11-21: En el vuelo 4 se tiene que cargar artículo.\n",
      "Día 2023-11-23: En el vuelo 1 se tiene que cargar artículo.\n",
      "Día 2023-11-25: En el vuelo 1 se tiene que cargar artículo.\n",
      "Día 2023-12-01: En el vuelo 2 se tiene que cargar artículo.\n",
      "Día 2023-12-06: En el vuelo 3 se tiene que cargar artículo.\n",
      "Día 2023-12-11: En el vuelo 1 se tiene que cargar artículo.\n",
      "Día 2023-12-15: En el vuelo 1 se tiene que cargar artículo.\n",
      "Día 2023-12-22: En el vuelo 1 se tiene que cargar artículo.\n",
      "Día 2023-12-24: En el vuelo 1 se tiene que cargar artículo.\n",
      "Día 2023-12-26: En el vuelo 1 se tiene que cargar artículo.\n",
      "Día 2023-12-28: En el vuelo 2 se tiene que cargar artículo.\n",
      "Día 2023-12-30: En el vuelo 1 se tiene que cargar artículo.\n"
     ]
    }
   ],
   "source": [
    "formatted_decisions = [f\"Día {day}: En el vuelo {flight} se tiene que cargar artículo.\" for (day, flight) in supply_decisions.keys()]\n",
    "\n",
    "# Joining all formatted strings for easy viewing\n",
    "formatted_output = \"\\n\".join(formatted_decisions)\n",
    "print(formatted_output)"
   ]
  }
 ],
 "metadata": {
  "colab": {
   "provenance": []
  },
  "kernelspec": {
   "display_name": "Python 3",
   "name": "python3"
  },
  "language_info": {
   "codemirror_mode": {
    "name": "ipython",
    "version": 3
   },
   "file_extension": ".py",
   "mimetype": "text/x-python",
   "name": "python",
   "nbconvert_exporter": "python",
   "pygments_lexer": "ipython3",
   "version": "3.12.2"
  }
 },
 "nbformat": 4,
 "nbformat_minor": 0
}
